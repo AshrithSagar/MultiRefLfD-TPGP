{
 "cells": [
  {
   "cell_type": "markdown",
   "metadata": {},
   "source": [
    "# Variational GPs w/ Multiple Outputs\n",
    "\n",
    "## Introduction\n",
    "\n",
    "In this example, we will demonstrate how to construct approximate/variational GPs that can model vector-valued functions (e.g. multitask/multi-output GPs).\n"
   ]
  },
  {
   "cell_type": "code",
   "execution_count": 4,
   "metadata": {},
   "outputs": [
    {
     "name": "stdout",
     "output_type": "stream",
     "text": [
      "The autoreload extension is already loaded. To reload it, use:\n",
      "  %reload_ext autoreload\n"
     ]
    }
   ],
   "source": [
    "import math\n",
    "import torch\n",
    "import gpytorch\n",
    "import tqdm\n",
    "from matplotlib import pyplot as plt\n",
    "\n",
    "%matplotlib inline\n",
    "%load_ext autoreload\n",
    "%autoreload 2"
   ]
  },
  {
   "cell_type": "code",
   "execution_count": 18,
   "metadata": {},
   "outputs": [],
   "source": [
    "from torch import Tensor"
   ]
  },
  {
   "cell_type": "markdown",
   "metadata": {},
   "source": [
    "### Set up training data\n",
    "\n",
    "In the next cell, we set up the training data for this example. We'll be using 100 regularly spaced points on [0,1] which we evaluate the function on and add Gaussian noise to get the training labels.\n",
    "\n",
    "We'll have four functions - all of which are some sort of sinusoid. Our `train_targets` will actually have two dimensions: with the second dimension corresponding to the different tasks."
   ]
  },
  {
   "cell_type": "code",
   "execution_count": 5,
   "metadata": {},
   "outputs": [
    {
     "name": "stdout",
     "output_type": "stream",
     "text": [
      "torch.Size([100]) torch.Size([100, 4])\n"
     ]
    }
   ],
   "source": [
    "train_x = torch.linspace(0, 1, 100)\n",
    "\n",
    "train_y = torch.stack(\n",
    "    [\n",
    "        torch.sin(train_x * (2 * math.pi)) + torch.randn(train_x.size()) * 0.2,\n",
    "        torch.cos(train_x * (2 * math.pi)) + torch.randn(train_x.size()) * 0.2,\n",
    "        torch.sin(train_x * (2 * math.pi))\n",
    "        + 2 * torch.cos(train_x * (2 * math.pi))\n",
    "        + torch.randn(train_x.size()) * 0.2,\n",
    "        -torch.cos(train_x * (2 * math.pi)) + torch.randn(train_x.size()) * 0.2,\n",
    "    ],\n",
    "    -1,\n",
    ")\n",
    "\n",
    "print(train_x.shape, train_y.shape)"
   ]
  },
  {
   "cell_type": "code",
   "execution_count": 6,
   "metadata": {},
   "outputs": [
    {
     "name": "stdout",
     "output_type": "stream",
     "text": [
      "torch.Size([7000, 3]) torch.Size([7000, 3])\n"
     ]
    }
   ],
   "source": [
    "import lfd\n",
    "import numpy as np\n",
    "\n",
    "lfd.set_seed(42)\n",
    "device = torch.device(\"cuda\" if torch.cuda.is_available() else \"cpu\")\n",
    "\n",
    "D0 = lfd.utils.load_data_with_phi(\"s\")\n",
    "\n",
    "fdset = lfd.utils.transform_data(D0)\n",
    "P = lfd.alignment.computeP(fdset)\n",
    "D0_star = lfd.alignment.align_demonstrations(fdset, P)\n",
    "\n",
    "X = lfd.utils.transform_data(D0_star)\n",
    "\n",
    "Y = lfd.utils.utils.vectorized_derivative(D0_star)\n",
    "Y = lfd.utils.transform_data(Y)\n",
    "\n",
    "train_x = torch.tensor(X[0].reshape(-1, 3), dtype=torch.float32)\n",
    "train_y = torch.tensor(Y[0].reshape(-1, 3), dtype=torch.float32)\n",
    "\n",
    "print(train_x.shape, train_y.shape)"
   ]
  },
  {
   "cell_type": "markdown",
   "metadata": {},
   "source": [
    "## Define a multitask model\n",
    "\n",
    "We are going to construct a batch variational GP - using a `CholeskyVariationalDistribution` and a `VariationalStrategy`. Each of the batch dimensions is going to correspond to one of the outputs. In addition, we will wrap the variational strategy to make the output appear as a `MultitaskMultivariateNormal` distribution. Here are the changes that we'll need to make:\n",
    "\n",
    "1. Our inducing points will need to have shape `4 x m x 1` (where `m` is the number of inducing points). This ensures that we learn a different set of inducing points for each output dimension.\n",
    "1. The `CholeskyVariationalDistribution`, mean module, and covariance modules will all need to include a `batch_shape=torch.Size([4])` argument. This ensures that we learn a different set of variational parameters and hyperparameters for each output dimension.\n",
    "1. The `VariationalStrategy` object should be wrapped by a variational strategy that handles multitask models. We describe them below:\n",
    "\n",
    "\n",
    "### Types of Variational Multitask Models\n",
    "\n",
    "The most general purpose multitask model is the **Linear Model of Coregionalization** (LMC), which assumes that each output dimension (task) is the linear combination of some latent functions $\\mathbf g(\\cdot) = [g^{(1)}(\\cdot), \\ldots, g^{(Q)}(\\cdot)]$:\n",
    "\n",
    "$$ f_\\text{task}(\\mathbf x) = \\sum_{i=1}^Q a^{(i)} g^{(i)}(\\mathbf x), $$\n",
    "\n",
    "where $a^{(i)}$ are learnable parameters."
   ]
  },
  {
   "cell_type": "code",
   "execution_count": 7,
   "metadata": {},
   "outputs": [],
   "source": [
    "class MultitaskGPModel(gpytorch.models.ApproximateGP):\n",
    "    def __init__(self, num_latents, num_tasks, num_inducing):\n",
    "        # Let's use a different set of inducing points for each latent function\n",
    "        inducing_points = torch.rand(num_latents, num_inducing, 3)\n",
    "\n",
    "        # We have to mark the CholeskyVariationalDistribution as batch\n",
    "        # so that we learn a variational distribution for each task\n",
    "        variational_distribution = gpytorch.variational.CholeskyVariationalDistribution(\n",
    "            inducing_points.size(-2), batch_shape=torch.Size([num_latents])\n",
    "        )\n",
    "\n",
    "        # We have to wrap the VariationalStrategy in a LMCVariationalStrategy\n",
    "        # so that the output will be a MultitaskMultivariateNormal rather than a batch output\n",
    "        variational_strategy = gpytorch.variational.LMCVariationalStrategy(\n",
    "            gpytorch.variational.VariationalStrategy(\n",
    "                self,\n",
    "                inducing_points,\n",
    "                variational_distribution,\n",
    "                learn_inducing_locations=True,\n",
    "            ),\n",
    "            num_tasks=num_tasks,\n",
    "            num_latents=num_latents,\n",
    "            latent_dim=-1,\n",
    "        )\n",
    "\n",
    "        super().__init__(variational_strategy)\n",
    "\n",
    "        # The mean and covariance modules should be marked as batch\n",
    "        # so we learn a different set of hyperparameters\n",
    "        self.mean_module = gpytorch.means.ConstantMean(\n",
    "            batch_shape=torch.Size([num_latents])\n",
    "        )\n",
    "        self.covar_module = gpytorch.kernels.ScaleKernel(\n",
    "            gpytorch.kernels.RBFKernel(batch_shape=torch.Size([num_latents])),\n",
    "            batch_shape=torch.Size([num_latents]),\n",
    "        )\n",
    "\n",
    "    def forward(self, x):\n",
    "        # The forward function should be written as if we were dealing with each output\n",
    "        # dimension in batch\n",
    "        mean_x = self.mean_module(x)\n",
    "        covar_x = self.covar_module(x)\n",
    "        return gpytorch.distributions.MultivariateNormal(mean_x, covar_x)\n",
    "\n",
    "\n",
    "num_latents = 16\n",
    "num_tasks = 3\n",
    "model = MultitaskGPModel(num_latents, num_tasks, num_inducing=64)\n",
    "likelihood = gpytorch.likelihoods.MultitaskGaussianLikelihood(num_tasks=num_tasks)"
   ]
  },
  {
   "cell_type": "markdown",
   "metadata": {},
   "source": [
    "With all of the `batch_shape` arguments - it may look like we're learning a batch of GPs. However, `LMCVariationalStrategy` objects convert this batch_dimension into a (non-batch) MultitaskMultivariateNormal."
   ]
  },
  {
   "cell_type": "code",
   "execution_count": 8,
   "metadata": {},
   "outputs": [],
   "source": [
    "# likelihood(model(train_x)).rsample().shape"
   ]
  },
  {
   "cell_type": "markdown",
   "metadata": {},
   "source": [
    "The LMC model allows there to be linear dependencies between outputs/tasks. Alternatively, if we want independent output dimensions, we can replace `LMCVariationalStrategy` with `IndependentMultitaskVariationalStrategy`:"
   ]
  },
  {
   "cell_type": "code",
   "execution_count": 9,
   "metadata": {},
   "outputs": [],
   "source": [
    "class IndependentMultitaskGPModel(gpytorch.models.ApproximateGP):\n",
    "    def __init__(self, num_tasks):\n",
    "        # Let's use a different set of inducing points for each task\n",
    "        inducing_points = torch.rand(num_tasks, 16, 1)\n",
    "\n",
    "        # We have to mark the CholeskyVariationalDistribution as batch\n",
    "        # so that we learn a variational distribution for each task\n",
    "        variational_distribution = gpytorch.variational.CholeskyVariationalDistribution(\n",
    "            inducing_points.size(-2), batch_shape=torch.Size([num_tasks])\n",
    "        )\n",
    "\n",
    "        variational_strategy = (\n",
    "            gpytorch.variational.IndependentMultitaskVariationalStrategy(\n",
    "                gpytorch.variational.VariationalStrategy(\n",
    "                    self,\n",
    "                    inducing_points,\n",
    "                    variational_distribution,\n",
    "                    learn_inducing_locations=True,\n",
    "                ),\n",
    "                num_tasks=num_tasks,\n",
    "            )\n",
    "        )\n",
    "\n",
    "        super().__init__(variational_strategy)\n",
    "\n",
    "        # The mean and covariance modules should be marked as batch\n",
    "        # so we learn a different set of hyperparameters\n",
    "        self.mean_module = gpytorch.means.ConstantMean(\n",
    "            batch_shape=torch.Size([num_tasks])\n",
    "        )\n",
    "        self.covar_module = gpytorch.kernels.ScaleKernel(\n",
    "            gpytorch.kernels.RBFKernel(batch_shape=torch.Size([num_tasks])),\n",
    "            batch_shape=torch.Size([num_tasks]),\n",
    "        )\n",
    "\n",
    "    def forward(self, x):\n",
    "        # The forward function should be written as if we were dealing with each output\n",
    "        # dimension in batch\n",
    "        mean_x = self.mean_module(x)\n",
    "        covar_x = self.covar_module(x)\n",
    "        return gpytorch.distributions.MultivariateNormal(mean_x, covar_x)"
   ]
  },
  {
   "cell_type": "markdown",
   "metadata": {},
   "source": [
    "Note that all the batch sizes for `IndependentMultitaskVariationalStrategy` are now `num_tasks` rather than `num_latents`."
   ]
  },
  {
   "cell_type": "markdown",
   "metadata": {},
   "source": [
    "### Output modes\n",
    "\n",
    "By default, `LMCVariationalStrategy` and `IndependentMultitaskVariationalStrategy` produce vector-valued outputs. In other words, they return a `MultitaskMultivariateNormal` distribution -- containing all task values for each input.\n",
    "\n",
    "This is similar to the ExactGP model described in the [multitask GP regression tutorial](../03_Multitask_Exact_GPs/Multitask_GP_Regression.ipynb)."
   ]
  },
  {
   "cell_type": "code",
   "execution_count": 10,
   "metadata": {},
   "outputs": [
    {
     "name": "stdout",
     "output_type": "stream",
     "text": [
      "MultitaskMultivariateNormal torch.Size([7000, 3])\n"
     ]
    }
   ],
   "source": [
    "output = model(train_x)\n",
    "print(output.__class__.__name__, output.event_shape)"
   ]
  },
  {
   "cell_type": "markdown",
   "metadata": {},
   "source": [
    "Alternatively, if each input is only associated **with a single task**, passing in the `task_indices` argument will specify which task to return for each input. The result will be a standard `MultivariateNormal` distribution -- where each output corresponds to each input's specified task.\n",
    "\n",
    "This is similar to the ExactGP model described in the [Hadamard multitask GP regression tutorial](../03_Multitask_Exact_GPs/Hadamard_Multitask_GP_Regression.ipynb)"
   ]
  },
  {
   "cell_type": "code",
   "execution_count": 11,
   "metadata": {},
   "outputs": [
    {
     "name": "stdout",
     "output_type": "stream",
     "text": [
      "MultivariateNormal torch.Size([4])\n"
     ]
    }
   ],
   "source": [
    "x = train_x[..., :4, :]\n",
    "task_indices = torch.LongTensor([0, 1, 2, 2])\n",
    "output = model(x, task_indices=task_indices)\n",
    "print(output.__class__.__name__, output.event_shape)"
   ]
  },
  {
   "cell_type": "markdown",
   "metadata": {},
   "source": [
    "### Train the model\n",
    "\n",
    "This code should look similar to the SVGP training code"
   ]
  },
  {
   "cell_type": "code",
   "execution_count": 12,
   "metadata": {
    "scrolled": false
   },
   "outputs": [
    {
     "data": {
      "application/vnd.jupyter.widget-view+json": {
       "model_id": "1113ac6ffdca4ea4a44c7286929255b9",
       "version_major": 2,
       "version_minor": 0
      },
      "text/plain": [
       "Epoch:   0%|          | 0/500 [00:00<?, ?it/s]"
      ]
     },
     "metadata": {},
     "output_type": "display_data"
    }
   ],
   "source": [
    "# this is for running the notebook in our testing framework\n",
    "import os\n",
    "\n",
    "smoke_test = \"CI\" in os.environ\n",
    "num_epochs = 1 if smoke_test else 500\n",
    "\n",
    "\n",
    "model.train()\n",
    "likelihood.train()\n",
    "\n",
    "optimizer = torch.optim.Adam(\n",
    "    [\n",
    "        {\"params\": model.parameters()},\n",
    "        {\"params\": likelihood.parameters()},\n",
    "    ],\n",
    "    lr=0.1,\n",
    ")\n",
    "\n",
    "# Our loss object. We're using the VariationalELBO, which essentially just computes the ELBO\n",
    "mll = gpytorch.mlls.VariationalELBO(likelihood, model, num_data=train_y.size(0))\n",
    "\n",
    "# We use more CG iterations here because the preconditioner introduced in the NeurIPS paper seems to be less\n",
    "# effective for VI.\n",
    "epochs_iter = tqdm.notebook.tqdm(range(num_epochs), desc=\"Epoch\")\n",
    "for i in epochs_iter:\n",
    "    # Within each iteration, we will go over each minibatch of data\n",
    "    optimizer.zero_grad()\n",
    "    output = model(train_x)\n",
    "    loss = -mll(output, train_y)\n",
    "    epochs_iter.set_postfix(loss=loss.item())\n",
    "    loss.backward()\n",
    "    optimizer.step()"
   ]
  },
  {
   "cell_type": "markdown",
   "metadata": {},
   "source": [
    "### Make predictions with the model"
   ]
  },
  {
   "cell_type": "code",
   "execution_count": 19,
   "metadata": {},
   "outputs": [],
   "source": [
    "def reconstructX_2(delta_X: Tensor, X: Tensor):\n",
    "    return torch.cat(\n",
    "        [X[1:, :, :1, :], delta_X.cumsum(dim=-2) + X[1:, :, :1, :]], dim=-2\n",
    "    )\n",
    "\n",
    "\n",
    "def reconstructX_3(delta_X: Tensor, X: Tensor):\n",
    "    return torch.cat([X[..., :1, :], delta_X.cumsum(dim=-2) + X[..., :1, :]], dim=-2)"
   ]
  },
  {
   "cell_type": "code",
   "execution_count": 37,
   "metadata": {
    "scrolled": true
   },
   "outputs": [
    {
     "name": "stdout",
     "output_type": "stream",
     "text": [
      "torch.Size([7000, 3]) torch.Size([7000, 3]) torch.Size([7000, 3]) torch.Size([7000, 3]) torch.Size([7000, 3]) torch.Size([7000, 3])\n"
     ]
    },
    {
     "data": {
      "image/png": "[encoded data removed]",
      "text/plain": [
       "<Figure size 1200x300 with 3 Axes>"
      ]
     },
     "metadata": {},
     "output_type": "display_data"
    }
   ],
   "source": [
    "# Set into eval mode\n",
    "model.eval()\n",
    "likelihood.eval()\n",
    "\n",
    "# Initialize plots\n",
    "fig, axs = plt.subplots(1, num_tasks, figsize=(4 * num_tasks, 3))\n",
    "\n",
    "# Make predictions\n",
    "with torch.no_grad(), gpytorch.settings.fast_pred_var():\n",
    "    test_x = train_x[0:]\n",
    "    predictions = likelihood(model(test_x))\n",
    "    mean = predictions.mean\n",
    "    lower, upper = predictions.confidence_region()\n",
    "    print(\n",
    "        train_x.shape, train_y.shape, test_x.shape, mean.shape, lower.shape, upper.shape\n",
    "    )\n",
    "\n",
    "for task, ax in enumerate(axs):\n",
    "    # Plot training data as black stars\n",
    "    ax.plot(train_x[:1000, 1], train_x[:1000, 2], \"k\")\n",
    "    # ax.plot(train_y[:1000, 0], train_y[:1000, 1], \"g*\")\n",
    "    # ax.plot(train_y[:1000, task], \"k*\")\n",
    "\n",
    "    # Predictive mean as blue line\n",
    "    # ax.plot(mean[:1000, 1], mean[:1000, 2], \"b\")\n",
    "    Xr = -reconstructX_3(mean[:1000], train_x[:1000]) / 500\n",
    "    ax.plot(Xr[:, 1], Xr[:, 2], \"b\")\n",
    "    # ax.plot(test_x.numpy(), mean[:, task], \"b\")\n",
    "\n",
    "    # Shade in confidence\n",
    "    # ax.fill_between(\n",
    "    #     test_x.numpy(), lower[:, task].numpy(), upper[:, task].numpy(), alpha=0.5\n",
    "    # )\n",
    "    # ax.fill_between(mean[:1000, 1], lower[:1000, 1], upper[:1000, 1], alpha=0.5)\n",
    "    # ax.set_ylim([-3, 3])\n",
    "    # ax.legend([\"Observed Data\", \"Mean\", \"Confidence\"])\n",
    "    # ax.set_title(f\"Task {task + 1}\")\n",
    "\n",
    "fig.tight_layout()\n",
    "None"
   ]
  },
  {
   "cell_type": "code",
   "execution_count": null,
   "metadata": {},
   "outputs": [],
   "source": []
  },
  {
   "cell_type": "code",
   "execution_count": null,
   "metadata": {},
   "outputs": [],
   "source": []
  }
 ],
 "metadata": {
  "anaconda-cloud": {},
  "kernelspec": {
   "display_name": ".venv",
   "language": "python",
   "name": "python3"
  },
  "language_info": {
   "codemirror_mode": {
    "name": "ipython",
    "version": 3
   },
   "file_extension": ".py",
   "mimetype": "text/x-python",
   "name": "python",
   "nbconvert_exporter": "python",
   "pygments_lexer": "ipython3",
   "version": "3.13.3"
  }
 },
 "nbformat": 4,
 "nbformat_minor": 1
}
