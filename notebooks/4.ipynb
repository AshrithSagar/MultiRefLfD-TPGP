{
 "cells": [
  {
   "cell_type": "markdown",
   "id": "84941719-d283-4fd4-814d-af4e7e9e9d1d",
   "metadata": {},
   "source": [
    "# 4"
   ]
  },
  {
   "cell_type": "markdown",
   "id": "9fb20067",
   "metadata": {},
   "source": [
    "## Misc"
   ]
  },
  {
   "cell_type": "code",
   "execution_count": 76,
   "id": "c86ef783-8fac-410e-8eca-88490b714df2",
   "metadata": {
    "execution": {
     "iopub.execute_input": "2025-04-27T09:08:06.466446Z",
     "iopub.status.busy": "2025-04-27T09:08:06.465979Z",
     "iopub.status.idle": "2025-04-27T09:08:06.585569Z",
     "shell.execute_reply": "2025-04-27T09:08:06.585307Z",
     "shell.execute_reply.started": "2025-04-27T09:08:06.466414Z"
    }
   },
   "outputs": [],
   "source": [
    "%reload_ext autoreload\n",
    "%autoreload 2"
   ]
  },
  {
   "cell_type": "code",
   "execution_count": null,
   "id": "d2d0206b",
   "metadata": {},
   "outputs": [],
   "source": [
    "import torch"
   ]
  },
  {
   "cell_type": "code",
   "execution_count": null,
   "id": "cde4bb8e",
   "metadata": {},
   "outputs": [],
   "source": [
    "from torch.utils.data import TensorDataset, DataLoader\n",
    "\n",
    "n_split = 5\n",
    "train_x = X[:, :n_split, :, :]\n",
    "train_y = Y[:, :n_split, :, :]\n",
    "val_x = X[:, n_split:, :, :]\n",
    "val_y = Y[:, n_split:, :, :]\n",
    "\n",
    "train_x = train_x.reshape(-1, train_x.shape[-1])  # (n_traj * n_frames * n_length, 3)\n",
    "train_y = train_y.reshape(-1, train_y.shape[-1])  # (n_traj * n_frames * n_length, 3)\n",
    "\n",
    "batch_size = 1\n",
    "train_dataset = TensorDataset(train_x, train_y)\n",
    "train_loader = DataLoader(train_dataset, batch_size=batch_size, shuffle=True)\n",
    "val_dataset = TensorDataset(val_x, val_y)\n",
    "val_loader = DataLoader(val_dataset, batch_size=batch_size, shuffle=True)\n",
    "\n",
    "train_dataset.tensors[0].shape"
   ]
  },
  {
   "cell_type": "code",
   "execution_count": null,
   "id": "ebeb9690",
   "metadata": {},
   "outputs": [],
   "source": []
  }
 ],
 "metadata": {
  "kernelspec": {
   "display_name": ".venv",
   "language": "python",
   "name": "python3"
  },
  "language_info": {
   "codemirror_mode": {
    "name": "ipython",
    "version": 3
   },
   "file_extension": ".py",
   "mimetype": "text/x-python",
   "name": "python",
   "nbconvert_exporter": "python",
   "pygments_lexer": "ipython3",
   "version": "3.13.3"
  }
 },
 "nbformat": 4,
 "nbformat_minor": 5
}
